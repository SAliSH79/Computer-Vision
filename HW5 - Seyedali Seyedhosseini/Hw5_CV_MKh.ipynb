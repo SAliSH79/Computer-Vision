{
  "nbformat": 4,
  "nbformat_minor": 0,
  "metadata": {
    "colab": {
      "provenance": []
    },
    "kernelspec": {
      "name": "python3",
      "display_name": "Python 3"
    },
    "language_info": {
      "name": "python"
    }
  },
  "cells": [
    {
      "cell_type": "markdown",
      "source": [
        "# تمرین پنجم -\n",
        "## OpenCv"
      ],
      "metadata": {
        "id": "zRI4ND1QhdDV"
      }
    },
    {
      "cell_type": "markdown",
      "source": [
        "## Loading Relevant Libraries and Packages"
      ],
      "metadata": {
        "id": "Lk9M39Rt620y"
      }
    },
    {
      "cell_type": "code",
      "source": [
        "## Importing necessary libraries\n",
        "import cv2\n",
        "import numpy as np\n",
        "import matplotlib.pyplot as plt\n",
        "from google.colab.patches import cv2_imshow"
      ],
      "metadata": {
        "id": "5aE6Gf4vhqlv"
      },
      "execution_count": 3,
      "outputs": []
    },
    {
      "cell_type": "markdown",
      "source": [
        "## Triangle Function"
      ],
      "metadata": {
        "id": "YCkLSPjVpNeM"
      }
    },
    {
      "cell_type": "code",
      "source": [
        "points = []\n",
        "color = (0, 255, 0)\n",
        "\n",
        "def draw_triangle(img, center, color):\n",
        "\n",
        "    size = 50\n",
        "\n",
        "    pt1 = (center[0], center[1])\n",
        "    pt2 = (center[0] - size, center[1] + size)\n",
        "    pt3 = (center[0] + size, center[1] + size)\n",
        "\n",
        "\n",
        "    pts = np.array([pt1, pt2, pt3], np.int32)\n",
        "    cv2.polylines(img, [pts], isClosed=True, color=color, thickness=2)"
      ],
      "metadata": {
        "id": "WKG_46qXFtJo"
      },
      "execution_count": 4,
      "outputs": []
    },
    {
      "cell_type": "markdown",
      "source": [
        "## Mouse Event"
      ],
      "metadata": {
        "id": "eiUN7gquHJPK"
      }
    },
    {
      "cell_type": "code",
      "source": [
        "def on_mouse_event(event, x, y, flags, param):\n",
        "    global points\n",
        "    if event == cv2.EVENT_LBUTTONUP:\n",
        "        points.append((x, y))\n",
        "\n",
        "image = np.zeros((500, 500, 3), dtype=np.uint8)\n",
        "\n",
        "cv2.namedWindow(\"Triangles\")\n",
        "cv2.setMouseCallback(\"Triangles\", on_mouse_event) #bind the function to Mouse Call Back\n"
      ],
      "metadata": {
        "id": "Hc4shZbVpGYN"
      },
      "execution_count": null,
      "outputs": []
    },
    {
      "cell_type": "markdown",
      "source": [
        "## While True"
      ],
      "metadata": {
        "id": "TGNmZUeGHOZQ"
      }
    },
    {
      "cell_type": "code",
      "source": [
        "while True:\n",
        "\n",
        "    img_copy = image.copy()\n",
        "\n",
        "    for pt in points:\n",
        "        draw_triangle(img_copy, pt, color)\n",
        "\n",
        "\n",
        "    cv2.imshow(\"Triangles\", img_copy)\n",
        "\n",
        "\n",
        "    key = cv2.waitKey(1) & 0xFF\n",
        "\n",
        "\n",
        "    if key == ord('r'):\n",
        "        color = (255,0,0)\n",
        "    elif key == ord('g'):\n",
        "        current_color = (0,255,0)\n",
        "    elif key == ord('b'):\n",
        "        current_color = (0,0,255)\n",
        "\n",
        "\n",
        "    if key == 27:\n",
        "        break\n",
        "\n",
        "cv2.destroyAllWindows()"
      ],
      "metadata": {
        "colab": {
          "base_uri": "https://localhost:8080/",
          "height": 219
        },
        "id": "Q8lmyfbnHQCr",
        "outputId": "b693a245-b175-408d-8379-c4b1eb5c8ba6"
      },
      "execution_count": 1,
      "outputs": [
        {
          "output_type": "error",
          "ename": "NameError",
          "evalue": "name 'image' is not defined",
          "traceback": [
            "\u001b[0;31m---------------------------------------------------------------------------\u001b[0m",
            "\u001b[0;31mNameError\u001b[0m                                 Traceback (most recent call last)",
            "\u001b[0;32m<ipython-input-1-62735a1c38f2>\u001b[0m in \u001b[0;36m<cell line: 1>\u001b[0;34m()\u001b[0m\n\u001b[1;32m      1\u001b[0m \u001b[0;32mwhile\u001b[0m \u001b[0;32mTrue\u001b[0m\u001b[0;34m:\u001b[0m\u001b[0;34m\u001b[0m\u001b[0;34m\u001b[0m\u001b[0m\n\u001b[1;32m      2\u001b[0m \u001b[0;34m\u001b[0m\u001b[0m\n\u001b[0;32m----> 3\u001b[0;31m     \u001b[0mimg_copy\u001b[0m \u001b[0;34m=\u001b[0m \u001b[0mimage\u001b[0m\u001b[0;34m.\u001b[0m\u001b[0mcopy\u001b[0m\u001b[0;34m(\u001b[0m\u001b[0;34m)\u001b[0m\u001b[0;34m\u001b[0m\u001b[0;34m\u001b[0m\u001b[0m\n\u001b[0m\u001b[1;32m      4\u001b[0m \u001b[0;34m\u001b[0m\u001b[0m\n\u001b[1;32m      5\u001b[0m     \u001b[0;32mfor\u001b[0m \u001b[0mpt\u001b[0m \u001b[0;32min\u001b[0m \u001b[0mpoints\u001b[0m\u001b[0;34m:\u001b[0m\u001b[0;34m\u001b[0m\u001b[0;34m\u001b[0m\u001b[0m\n",
            "\u001b[0;31mNameError\u001b[0m: name 'image' is not defined"
          ]
        }
      ]
    },
    {
      "cell_type": "markdown",
      "source": [
        "# Seyedali Seyedhosseini\n",
        "## The End"
      ],
      "metadata": {
        "id": "e8a7Wz1pkQkv"
      }
    }
  ]
}