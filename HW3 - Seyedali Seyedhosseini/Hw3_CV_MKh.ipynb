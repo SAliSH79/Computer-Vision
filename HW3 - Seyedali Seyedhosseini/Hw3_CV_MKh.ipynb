{
  "nbformat": 4,
  "nbformat_minor": 0,
  "metadata": {
    "colab": {
      "provenance": []
    },
    "kernelspec": {
      "name": "python3",
      "display_name": "Python 3"
    },
    "language_info": {
      "name": "python"
    }
  },
  "cells": [
    {
      "cell_type": "markdown",
      "source": [
        "# تمرین سوم -\n",
        "## OpenCv"
      ],
      "metadata": {
        "id": "zRI4ND1QhdDV"
      }
    },
    {
      "cell_type": "markdown",
      "source": [
        "## Loading Relevant Libraries and Packages"
      ],
      "metadata": {
        "id": "Lk9M39Rt620y"
      }
    },
    {
      "cell_type": "code",
      "source": [
        "## Importing necessary libraries\n",
        "import cv2\n",
        "import numpy as np\n",
        "import matplotlib.pyplot as plt\n",
        "#from cv2 import cv2_imshow"
      ],
      "metadata": {
        "id": "5aE6Gf4vhqlv"
      },
      "execution_count": 1,
      "outputs": []
    },
    {
      "cell_type": "code",
      "source": [
        "?cv2.rectangle"
      ],
      "metadata": {
        "id": "PVPwMh0J7m-8"
      },
      "execution_count": 5,
      "outputs": []
    },
    {
      "cell_type": "code",
      "source": [
        "?cv2.line"
      ],
      "metadata": {
        "id": "EnKYD5a28NNH"
      },
      "execution_count": 13,
      "outputs": []
    },
    {
      "cell_type": "code",
      "source": [
        "img = np.zeros((1024, 1024, 3), np.uint8)\n",
        "\n",
        "cv2.rectangle(img, (200,400), (800,800), (255,0,0), 12) #House\n",
        "cv2.line(img, (200,400), (500, 200), (0, 255, 128), 14) #Ceiling\n",
        "cv2.line(img, (500,200), (800, 400), (0, 0, 255), 14) #Ceiling\n",
        "cv2.rectangle(img, (450,280), (550,380), (255,255,255), 10) #Upfloor window\n",
        "cv2.rectangle(img, (650,580), (800,800), (255,255,0), 8) #Door\n",
        "cv2.rectangle(img, (300,500), (500,650), (0,255,0), 6) #Front Window\n",
        "\n",
        "\n",
        "plt.imshow(img[:,:,::-1]); plt.title(\"Raw Image\")"
      ],
      "metadata": {
        "colab": {
          "base_uri": "https://localhost:8080/",
          "height": 470
        },
        "id": "EKYROKqX694J",
        "outputId": "1e741d2e-8e8b-4c3b-fb34-21ec637eca27"
      },
      "execution_count": 26,
      "outputs": [
        {
          "output_type": "execute_result",
          "data": {
            "text/plain": [
              "Text(0.5, 1.0, 'Raw Image')"
            ]
          },
          "metadata": {},
          "execution_count": 26
        },
        {
          "output_type": "display_data",
          "data": {
            "text/plain": [
              "<Figure size 640x480 with 1 Axes>"
            ],
            "image/png": "[encoded data removed]"
          },
          "metadata": {}
        }
      ]
    },
    {
      "cell_type": "code",
      "source": [
        "cv2.imwrite('Drawn House.png', img)"
      ],
      "metadata": {
        "colab": {
          "base_uri": "https://localhost:8080/"
        },
        "id": "AfXXR6Wr99hb",
        "outputId": "76b22e5d-d6e2-46cf-db5d-099b5ff0ffba"
      },
      "execution_count": 28,
      "outputs": [
        {
          "output_type": "execute_result",
          "data": {
            "text/plain": [
              "True"
            ]
          },
          "metadata": {},
          "execution_count": 28
        }
      ]
    },
    {
      "cell_type": "markdown",
      "source": [
        "# Seyedali Seyedhosseini\n",
        "## The End"
      ],
      "metadata": {
        "id": "e8a7Wz1pkQkv"
      }
    }
  ]
}