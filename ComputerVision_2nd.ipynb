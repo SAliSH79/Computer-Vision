{
 "cells": [
  {
   "cell_type": "markdown",
   "id": "1f43335f-13ce-4ddf-a355-fff182e0e39f",
   "metadata": {},
   "source": [
    "# Computer Vision \n",
    "## 2nd Notebook"
   ]
  },
  {
   "cell_type": "markdown",
   "id": "0ab04672-4199-4125-bb77-1d386a39ff57",
   "metadata": {},
   "source": [
    "## 2-1) Mouse Events"
   ]
  },
  {
   "cell_type": "code",
   "execution_count": 1,
   "id": "bcfc828b-5318-4e14-9e8d-1463ce44fd32",
   "metadata": {},
   "outputs": [
    {
     "name": "stdout",
     "output_type": "stream",
     "text": [
      "['EVENT_FLAG_ALTKEY', 'EVENT_FLAG_CTRLKEY', 'EVENT_FLAG_LBUTTON', 'EVENT_FLAG_MBUTTON', 'EVENT_FLAG_RBUTTON', 'EVENT_FLAG_SHIFTKEY', 'EVENT_LBUTTONDBLCLK', 'EVENT_LBUTTONDOWN', 'EVENT_LBUTTONUP', 'EVENT_MBUTTONDBLCLK', 'EVENT_MBUTTONDOWN', 'EVENT_MBUTTONUP', 'EVENT_MOUSEHWHEEL', 'EVENT_MOUSEMOVE', 'EVENT_MOUSEWHEEL', 'EVENT_RBUTTONDBLCLK', 'EVENT_RBUTTONDOWN', 'EVENT_RBUTTONUP']\n"
     ]
    }
   ],
   "source": [
    "import cv2\n",
    "events = [i for i in dir(cv2) if 'EVENT' in i]\n",
    "print( events )"
   ]
  },
  {
   "cell_type": "code",
   "execution_count": 4,
   "id": "d24d5dbd-99a8-42d0-a1de-1f271ad18aed",
   "metadata": {},
   "outputs": [],
   "source": [
    "import cv2 "
   ]
  },
  {
   "cell_type": "code",
   "execution_count": 6,
   "id": "1ee75a4c-d071-434a-9139-3ee9cc702ae6",
   "metadata": {},
   "outputs": [
    {
     "data": {
      "text/plain": [
       "\u001b[0;31mDocstring:\u001b[0m\n",
       "namedWindow(winname[, flags]) -> None\n",
       ".   @brief Creates a window.\n",
       ".   \n",
       ".   The function namedWindow creates a window that can be used as a placeholder for images and\n",
       ".   trackbars. Created windows are referred to by their names.\n",
       ".   \n",
       ".   If a window with the same name already exists, the function does nothing.\n",
       ".   \n",
       ".   You can call cv::destroyWindow or cv::destroyAllWindows to close the window and de-allocate any associated\n",
       ".   memory usage. For a simple program, you do not really have to call these functions because all the\n",
       ".   resources and windows of the application are closed automatically by the operating system upon exit.\n",
       ".   \n",
       ".   @note Qt backend supports additional flags:\n",
       ".    -   **WINDOW_NORMAL or WINDOW_AUTOSIZE:** WINDOW_NORMAL enables you to resize the\n",
       ".        window, whereas WINDOW_AUTOSIZE adjusts automatically the window size to fit the\n",
       ".        displayed image (see imshow ), and you cannot change the window size manually.\n",
       ".    -   **WINDOW_FREERATIO or WINDOW_KEEPRATIO:** WINDOW_FREERATIO adjusts the image\n",
       ".        with no respect to its ratio, whereas WINDOW_KEEPRATIO keeps the image ratio.\n",
       ".    -   **WINDOW_GUI_NORMAL or WINDOW_GUI_EXPANDED:** WINDOW_GUI_NORMAL is the old way to draw the window\n",
       ".        without statusbar and toolbar, whereas WINDOW_GUI_EXPANDED is a new enhanced GUI.\n",
       ".   By default, flags == WINDOW_AUTOSIZE | WINDOW_KEEPRATIO | WINDOW_GUI_EXPANDED\n",
       ".   \n",
       ".   @param winname Name of the window in the window caption that may be used as a window identifier.\n",
       ".   @param flags Flags of the window. The supported flags are: (cv::WindowFlags)\n",
       "\u001b[0;31mType:\u001b[0m      builtin_function_or_method\n"
      ]
     },
     "metadata": {},
     "output_type": "display_data"
    }
   ],
   "source": [
    "??cv2.namedWindow"
   ]
  },
  {
   "cell_type": "code",
   "execution_count": 9,
   "id": "42b9c208-862d-47f7-8a6b-ba73922fc851",
   "metadata": {},
   "outputs": [
    {
     "data": {
      "text/plain": [
       "\u001b[0;31mDocstring:\u001b[0m setMouseCallback(windowName, onMouse [, param]) -> None\n",
       "\u001b[0;31mType:\u001b[0m      builtin_function_or_method\n"
      ]
     },
     "metadata": {},
     "output_type": "display_data"
    }
   ],
   "source": [
    "??cv2.setMouseCallback"
   ]
  },
  {
   "cell_type": "code",
   "execution_count": null,
   "id": "7de3688c-fdc7-458e-9f87-fb7bb750a371",
   "metadata": {},
   "outputs": [],
   "source": []
  }
 ],
 "metadata": {
  "kernelspec": {
   "display_name": "Python 3 (ipykernel)",
   "language": "python",
   "name": "python3"
  },
  "language_info": {
   "codemirror_mode": {
    "name": "ipython",
    "version": 3
   },
   "file_extension": ".py",
   "mimetype": "text/x-python",
   "name": "python",
   "nbconvert_exporter": "python",
   "pygments_lexer": "ipython3",
   "version": "3.10.8"
  }
 },
 "nbformat": 4,
 "nbformat_minor": 5
}
