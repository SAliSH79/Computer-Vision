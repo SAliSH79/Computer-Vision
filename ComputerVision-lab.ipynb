{
 "cells": [
  {
   "cell_type": "code",
   "execution_count": null,
   "id": "05574f33-77c6-4d07-aa0a-5a5c640ed2d0",
   "metadata": {},
   "outputs": [],
   "source": [
    "import cv2\n",
    "cv2.__version__"
   ]
  },
  {
   "cell_type": "code",
   "execution_count": null,
   "id": "e91e2f1f-fee7-4f49-9f75-19eea6703731",
   "metadata": {},
   "outputs": [],
   "source": [
    "!pip install opencv-jupyter-ui"
   ]
  },
  {
   "cell_type": "code",
   "execution_count": null,
   "id": "decc1ab0-e547-4d0d-bc38-c04ec8839b5c",
   "metadata": {},
   "outputs": [],
   "source": [
    "pip install opencv-python"
   ]
  },
  {
   "cell_type": "markdown",
   "id": "55d3be0b-f606-45d5-b8e3-a4b27484f7e3",
   "metadata": {},
   "source": [
    "## OpenCV itself"
   ]
  },
  {
   "cell_type": "code",
   "execution_count": 1,
   "id": "2bbaaab6-cf82-42f7-93d4-dd092f368318",
   "metadata": {},
   "outputs": [],
   "source": [
    "#Reading an Image\n",
    "import numpy as np"
   ]
  },
  {
   "cell_type": "code",
   "execution_count": 1,
   "id": "b8410c86-f788-4811-8822-7337b05c0ad9",
   "metadata": {},
   "outputs": [],
   "source": [
    "import cv2\n",
    "#from opencv_jupyter_ui import cv2_imshow \n",
    "\n",
    "img = cv2.imread('fiber.jpg')\n",
    "#cv2.imshow('1st',img)\n",
    "#cv2.waitKey()\n",
    "#cv2.destroyAllWindows()"
   ]
  },
  {
   "cell_type": "code",
   "execution_count": 2,
   "id": "81198fdb-a35e-4a3e-8d09-82dc26f7b5a7",
   "metadata": {},
   "outputs": [
    {
     "data": {
      "text/plain": [
       "numpy.ndarray"
      ]
     },
     "execution_count": 2,
     "metadata": {},
     "output_type": "execute_result"
    }
   ],
   "source": [
    "type(img)"
   ]
  },
  {
   "cell_type": "code",
   "execution_count": 3,
   "id": "932220c9-2f6d-4f8e-a156-1cef5cee9420",
   "metadata": {},
   "outputs": [
    {
     "data": {
      "text/plain": [
       "(422, 600, 3)"
      ]
     },
     "execution_count": 3,
     "metadata": {},
     "output_type": "execute_result"
    }
   ],
   "source": [
    "img.shape"
   ]
  },
  {
   "cell_type": "code",
   "execution_count": 4,
   "id": "c3f55ab3-4447-4b8c-9fe8-3b659a655e45",
   "metadata": {},
   "outputs": [
    {
     "name": "stdout",
     "output_type": "stream",
     "text": [
      "Height(rows) of my image is  422\n"
     ]
    }
   ],
   "source": [
    "print(\"Height(rows) of my image is \", img.shape[0])"
   ]
  },
  {
   "cell_type": "code",
   "execution_count": 6,
   "id": "b058d955-6623-46ab-b232-b1f1d072c04c",
   "metadata": {},
   "outputs": [
    {
     "data": {
      "text/plain": [
       "True"
      ]
     },
     "execution_count": 6,
     "metadata": {},
     "output_type": "execute_result"
    }
   ],
   "source": [
    "cv2.imwrite('Fiber2.png', img)"
   ]
  },
  {
   "cell_type": "code",
   "execution_count": null,
   "id": "d80cd5c6-bfb2-4da5-a8f8-881dcab4585f",
   "metadata": {},
   "outputs": [],
   "source": []
  }
 ],
 "metadata": {
  "kernelspec": {
   "display_name": "Python 3 (ipykernel)",
   "language": "python",
   "name": "python3"
  },
  "language_info": {
   "codemirror_mode": {
    "name": "ipython",
    "version": 3
   },
   "file_extension": ".py",
   "mimetype": "text/x-python",
   "name": "python",
   "nbconvert_exporter": "python",
   "pygments_lexer": "ipython3",
   "version": "3.10.8"
  }
 },
 "nbformat": 4,
 "nbformat_minor": 5
}
