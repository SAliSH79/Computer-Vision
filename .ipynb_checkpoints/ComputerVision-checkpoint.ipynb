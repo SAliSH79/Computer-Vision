{
 "cells": [
  {
   "cell_type": "code",
   "execution_count": null,
   "id": "05574f33-77c6-4d07-aa0a-5a5c640ed2d0",
   "metadata": {},
   "outputs": [],
   "source": [
    "import cv2\n",
    "cv2.__version__"
   ]
  },
  {
   "cell_type": "code",
   "execution_count": null,
   "id": "e91e2f1f-fee7-4f49-9f75-19eea6703731",
   "metadata": {},
   "outputs": [],
   "source": [
    "!pip install opencv-jupyter-ui"
   ]
  },
  {
   "cell_type": "code",
   "execution_count": null,
   "id": "decc1ab0-e547-4d0d-bc38-c04ec8839b5c",
   "metadata": {},
   "outputs": [],
   "source": [
    "pip install opencv-python"
   ]
  },
  {
   "cell_type": "markdown",
   "id": "55d3be0b-f606-45d5-b8e3-a4b27484f7e3",
   "metadata": {},
   "source": [
    "## OpenCV itself"
   ]
  },
  {
   "cell_type": "code",
   "execution_count": 1,
   "id": "2bbaaab6-cf82-42f7-93d4-dd092f368318",
   "metadata": {},
   "outputs": [],
   "source": [
    "#Reading an Image\n",
    "import numpy as np"
   ]
  },
  {
   "cell_type": "code",
   "execution_count": 3,
   "id": "b8410c86-f788-4811-8822-7337b05c0ad9",
   "metadata": {},
   "outputs": [],
   "source": [
    "import cv2\n",
    "from opencv_jupyter_ui import cv2_imshow \n",
    "\n",
    "img = cv2.imread('fiber.jpg')"
   ]
  },
  {
   "cell_type": "code",
   "execution_count": null,
   "id": "257e5427-6490-4f90-aa1c-d8bd1bfce15a",
   "metadata": {},
   "outputs": [],
   "source": [
    "cv2.imshow('1st',img)\n",
    "\n",
    "cv2.waitKey(11)\n",
    "\n",
    "cv2.destroyWindow('1st')"
   ]
  },
  {
   "cell_type": "code",
   "execution_count": null,
   "id": "81198fdb-a35e-4a3e-8d09-82dc26f7b5a7",
   "metadata": {},
   "outputs": [],
   "source": [
    "type(img)"
   ]
  },
  {
   "cell_type": "code",
   "execution_count": null,
   "id": "932220c9-2f6d-4f8e-a156-1cef5cee9420",
   "metadata": {},
   "outputs": [],
   "source": []
  }
 ],
 "metadata": {
  "kernelspec": {
   "display_name": "Python 3 (ipykernel)",
   "language": "python",
   "name": "python3"
  },
  "language_info": {
   "codemirror_mode": {
    "name": "ipython",
    "version": 3
   },
   "file_extension": ".py",
   "mimetype": "text/x-python",
   "name": "python",
   "nbconvert_exporter": "python",
   "pygments_lexer": "ipython3",
   "version": "3.10.8"
  }
 },
 "nbformat": 4,
 "nbformat_minor": 5
}
